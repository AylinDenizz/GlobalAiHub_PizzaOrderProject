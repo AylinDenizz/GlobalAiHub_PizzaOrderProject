{
  "nbformat": 4,
  "nbformat_minor": 0,
  "metadata": {
    "colab": {
      "provenance": [],
      "authorship_tag": "ABX9TyPGHqjJlmu6Ey9s31ArgWTw",
      "include_colab_link": true
    },
    "kernelspec": {
      "name": "python3",
      "display_name": "Python 3"
    },
    "language_info": {
      "name": "python"
    }
  },
  "cells": [
    {
      "cell_type": "markdown",
      "metadata": {
        "id": "view-in-github",
        "colab_type": "text"
      },
      "source": [
        "<a href=\"https://colab.research.google.com/github/AylinDenizz/GlobalAiHub_PizzaOrderProject/blob/main/GlobalA%C4%B0hub_PythonBootcampProject.ipynb\" target=\"_parent\"><img src=\"https://colab.research.google.com/assets/colab-badge.svg\" alt=\"Open In Colab\"/></a>"
      ]
    },
    {
      "cell_type": "code",
      "execution_count": 202,
      "metadata": {
        "id": "J4GEso8ApIfr"
      },
      "outputs": [],
      "source": [
        "from datetime import datetime\n",
        "import csv"
      ]
    },
    {
      "cell_type": "code",
      "source": [
        "# Menu.txt adlı bir dosya oluşturun ve içine menü içeriğini yaz\n",
        "def create_menu():\n",
        "  pizza_tabanı={\"1\":\"Klasik\",\"2\":\"Margarita\",\"3\":\"TürkPizza\",\"4\":\"Sade Pizza\"}\n",
        "  pizza_sosu={\"11\":\"Zeytin\",\"12\":\"Mantarlı Sos\",\"13\":\"Keçi Peynirli Sos\",\"14\":\"Etli Sos\",\"15\": \"Soğanlı Sos\", \"16\": \"Mısırlı Sos\"}\n",
        "  with open('menu.txt', 'w') as file:\n",
        "    file.write(\"* Lütfen Bir Pizza Tabanı Seçiniz: \\n\")\n",
        "    for no,component in pizza_tabanı.items(): \n",
        "      file.write(no + \":\" + component + \"\\n\")\n",
        "    file.write(\"* Lütfen Bir Sos Seçiniz: \\n\")\n",
        "    for no,component in pizza_sosu.items(): \n",
        "      file.write(no + \":\" + component + \"\\n\")\n",
        "    file.close()"
      ],
      "metadata": {
        "id": "BjLddyBbq1y2"
      },
      "execution_count": 203,
      "outputs": []
    },
    {
      "cell_type": "code",
      "source": [
        "#Pizza sınıfını ve bu sınıfın içindeki encapsulation(kapsülleme) için get_description() ve get_cost() methodları tanımlayalım.\n",
        "\n",
        "class pizza():\n",
        "  def __init__(self, description, cost):\n",
        "    self.cost = cost\n",
        "    self.description = description\n",
        "\n",
        "  def get_cost(self):\n",
        "    return self.cost\n",
        "  \n",
        "  def get_description(self):\n",
        "    return self.description\n"
      ],
      "metadata": {
        "id": "S6iDWovwr28N"
      },
      "execution_count": 204,
      "outputs": []
    },
    {
      "cell_type": "code",
      "source": [
        "# Pizza alt sınıfları oluşturuldu. Bu pizza türlerinin her biri bir pizza türü olduğu için bu sınıflar alt sınıflar olarak tanımlanacaktır.\n",
        "class Klasik(pizza):\n",
        "  def __init__( self, description=0, cost=1):\n",
        "    self.cost = 80\n",
        "    self.description = \"Klasik Pizza\"\n",
        "    \n",
        "class Margarita(pizza):\n",
        "  def __init__(self, description=0, cost=1):   \n",
        "    self.cost = 80\n",
        "    self.description = \"italyan lezzeti Margarita\"\n",
        "\n",
        "\n",
        "class TurkPizza(pizza):\n",
        "  def __init__( self, description=0, cost=1): \n",
        "    self.cost = 150\n",
        "    self.description = \"anadolunun bağrından Türk Pizza\"\n",
        "\n",
        "\n",
        "class SadePizza(pizza):\n",
        "  def __init__( self, description=0, cost=1): \n",
        "    self.cost = 50\n",
        "    self.description = \"basit bir lezzet Sade Pizza\"\n",
        "\n"
      ],
      "metadata": {
        "id": "UusnRn_M7dtX"
      },
      "execution_count": 205,
      "outputs": []
    },
    {
      "cell_type": "code",
      "source": [
        "#Decorator sınıfı ile tüm sos sınıflarının üst sınıflarını oluşturalım.\n",
        "class Decorator():\n",
        "\n",
        "  def get_cost(self):\n",
        "       return self.component.get_cost() + \\\n",
        "         pizza.get_cost(self)\n",
        "\n",
        "\n",
        "  def get_description(self):\n",
        "       return self.Component.get_description() + \\\n",
        "         ' ' + pizza.get_description(self)"
      ],
      "metadata": {
        "id": "Yn62U54WiU7c"
      },
      "execution_count": 206,
      "outputs": []
    },
    {
      "cell_type": "code",
      "source": [
        "class Component():\n",
        "    def __init__(self, description=0, cost=1):\n",
        "      self.cost = cost\n",
        "      self.description = description\n",
        "\n",
        "    def get_cost(self):\n",
        "      return self.cost\n",
        "  \n",
        "    def get_description(self):\n",
        "      return self.description"
      ],
      "metadata": {
        "id": "7NFOU-TTuJj0"
      },
      "execution_count": 207,
      "outputs": []
    },
    {
      "cell_type": "code",
      "source": [
        "#Sosların alt sınıflarını oluşturalım.\n",
        "class zeytin(Component):\n",
        "    def __init__(self):  \n",
        "        self.cost = 9\n",
        "        self.description = \"  zeytinli sos \"\n",
        "class mantar(Component):\n",
        "    def __init__(self): \n",
        "        self.cost = 13\n",
        "        self.description = \"  mantarlı sos \"\n",
        "class keciPeyniri(Component):\n",
        "    def __init__(self):   \n",
        "        self.cost = 15\n",
        "        self.description = \"  keçi peynirli sos\"\n",
        "class et(Component):\n",
        "    def __init__(self):  \n",
        "        self.cost = 20\n",
        "        self.description = \"  etli sos\"\n",
        "class sogan(Component):\n",
        "    def __init__(self): \n",
        "        self.cost = 8\n",
        "        self.description = \"  soğanlı sos\"\n",
        "class misir(Component):\n",
        "    def __init__(self):  \n",
        "        self.cost = 5\n",
        "        self.description = \"  mısırlı sos\""
      ],
      "metadata": {
        "id": "bIOETLVKjc37"
      },
      "execution_count": 208,
      "outputs": []
    },
    {
      "cell_type": "code",
      "source": [
        "def main():\n",
        "    create_menu()\n",
        "    with open(\"menu.txt\", \"r\") as file:\n",
        "        for line in file:\n",
        "           print(line)\n"
      ],
      "metadata": {
        "id": "VwFwhvz1fNOz"
      },
      "execution_count": 209,
      "outputs": []
    },
    {
      "cell_type": "code",
      "source": [
        "print(\"Merhaba, mesaj ile pizza siparişi sistemimize hoş geldiniz.\")\n",
        "order_pizza = True\n",
        "see_menu = input(\"Menüyü görmek ister misiniz?Evet veya Hayır şeklinde cevap verebilirsiniz\")\n",
        "\n",
        "if(see_menu == \"Evet\"):\n",
        "  main()\n",
        "\n",
        "elif(see_menu == \"Hayır\"):\n",
        "  print(\"Yine Bekleriz\")\n",
        "\n",
        "else:\n",
        "  print(\"Lütfen evet veya hayır yazınız\")\n"
      ],
      "metadata": {
        "colab": {
          "base_uri": "https://localhost:8080/"
        },
        "id": "TAn6Bcnrmv9T",
        "outputId": "fec639e5-7d39-466c-d3c0-b96adc2ed28e"
      },
      "execution_count": 210,
      "outputs": [
        {
          "output_type": "stream",
          "name": "stdout",
          "text": [
            "Merhaba, mesaj ile pizza siparişi sistemimize hoş geldiniz.\n",
            "Menüyü görmek ister misiniz?Evet veya Hayır şeklinde cevap verebilirsinizEvet\n",
            "* Lütfen Bir Pizza Tabanı Seçiniz: \n",
            "\n",
            "1:Klasik\n",
            "\n",
            "2:Margarita\n",
            "\n",
            "3:TürkPizza\n",
            "\n",
            "4:Sade Pizza\n",
            "\n",
            "* Lütfen Bir Sos Seçiniz: \n",
            "\n",
            "11:Zeytin\n",
            "\n",
            "12:Mantarlı Sos\n",
            "\n",
            "13:Keçi Peynirli Sos\n",
            "\n",
            "14:Etli Sos\n",
            "\n",
            "15:Soğanlı Sos\n",
            "\n",
            "16:Mısırlı Sos\n",
            "\n"
          ]
        }
      ]
    },
    {
      "cell_type": "code",
      "source": [
        "pizza_dict={\"1\":Klasik(),\"2\":Margarita(),\"3\":TurkPizza(),\"4\":SadePizza()}\n",
        "sos_dict={\"11\":zeytin(),\"12\": mantar(),\"13\":keciPeyniri(),\"14\":et(),\"15\":sogan(), \"16\":misir()}"
      ],
      "metadata": {
        "id": "5sUDLFty2CEW"
      },
      "execution_count": 211,
      "outputs": []
    },
    {
      "cell_type": "code",
      "source": [
        "order_confirmation=False\n",
        "while order_confirmation==False :  \n",
        "  choose_pizza = input(\"Menüdeki pizza numarasını girerek siparişinizi seçiniz.\") \n",
        "  while choose_pizza not in [\"1\",\"2\",\"3\",\"4\"]:\n",
        "    choose_pizza = input(\"hatalı pizza seçimi yaptınız, lütfen tekrar sayı girin\")\n",
        "  choose_sos = input(\"Menüdeki sos numarasını girerek siparişinizi seçiniz.\")\n",
        "  while choose_sos not in [\"11\",\"12\",\"13\",\"14\",\"15\",\"16\"]:\n",
        "    choose_sos = input(\"hatalı sos seçimi yaptınız, lütfen tekrar sayı girin.\")\n",
        "  order_pizza= pizza_dict[choose_pizza]\n",
        "  order_sos= sos_dict[choose_sos]\n",
        "  order_confstring= input(str(order_pizza.cost + order_sos.cost ) + \" tl tutarındaki \" + order_sos.description + \" ilaveli \" + order_pizza.description + \" siparişinizi onaylıyor musunuz?\")\n",
        "  if (order_confstring==\"Evet\"):\n",
        "    order_confirmation=True\n",
        "  elif (order_confstring==\"Hayır\"):\n",
        "    print (\"Lütfen baştan başlayarak tekrar deneyin.\")\n",
        "  else :\n",
        "    print (\"Lütfen geçerli birşey yazın.\")"
      ],
      "metadata": {
        "colab": {
          "base_uri": "https://localhost:8080/"
        },
        "id": "CL2zl9i2o0BT",
        "outputId": "36030a95-3d3e-44de-d0bc-9a660a24e16e"
      },
      "execution_count": 212,
      "outputs": [
        {
          "name": "stdout",
          "output_type": "stream",
          "text": [
            "Menüdeki pizza numarasını girerek siparişinizi seçiniz.2\n",
            "Menüdeki sos numarasını girerek siparişinizi seçiniz.13\n",
            "95 tl tutarındaki   keçi peynirli sos ilaveli italyan lezzeti Margarita siparişinizi onaylıyor musunuz?Evet\n"
          ]
        }
      ]
    },
    {
      "cell_type": "code",
      "source": [
        "#Seçilen ürünlerin toplam fiyatını hesapladıktan sonra kullanıcıdan isim, TC kimlik numarası, kredi kartı numarası ve kredi kartı şifresi istemektedir. \n",
        "\n",
        "print(\"Siparişin tamamlanması için müşteri bilgilerini girin.\")\n",
        "name_surname = input(\"Adınız ve soyadınız: \")\n",
        "tc_no = input(\"TC Kimlik numaranız\")\n",
        "creditcard_no = input(\"Kredi Kartı numarası: \")\n",
        "card_password = input(\"Kredi Kartı şifresi:\")\n",
        "order_date= datetime.now()\n",
        "\n",
        "# Veritabanı olarak adlandırdığımız \"Orders_Database.csv\" dosyasında pizzasını seçen ve kullanıcı adını, kullanıcı kimliğini, kredi kartı bilgilerini, sipariş açıklamasını, sipariş zamanını ve kredi kartı şifresini tutan bir tablo oluşturunuz\n",
        "def Orders_Database():\n",
        "    with open('Orders_Database.csv', mode='a', newline='', encoding='utf-8') as orders_file:\n",
        "            yazici = csv.writer(orders_file, delimiter=',')\n",
        "            yazici.writerow([f\"Ad Soyad  ,  Tc No  ,  Kart No  ,  Kart Sifresi  ,  Siparis Tarihi  , Pizza adi-kodu  , Sos adi-kodu , Mus Siparisi\"])\n",
        "            yazici.writerow([name_surname, tc_no, card_password, order_date , creditcard_no, order_sos.description, order_pizza.description, (str(order_pizza.cost + order_sos.cost)+ \"TL\")])\n",
        "Orders_Database()\n",
        "\n",
        "print(\"Bizi tercih ettiğiniz için teşekkür ederiz\")"
      ],
      "metadata": {
        "id": "Dmixy4TkEQpi",
        "colab": {
          "base_uri": "https://localhost:8080/"
        },
        "outputId": "bbbd7c24-f291-48b7-cd26-280c182aa547"
      },
      "execution_count": 213,
      "outputs": [
        {
          "output_type": "stream",
          "name": "stdout",
          "text": [
            "Siparişin tamamlanması için müşteri bilgilerini girin.\n",
            "Adınız ve soyadınız: asşlfdj\n",
            "TC Kimlik numaranızjfaslşdfkjsa\n",
            "Kredi Kartı numarası: skfdasdjf\n",
            "Kredi Kartı şifresi:sişlfdsalfkş\n",
            "Bizi tercih ettiğiniz için teşekkür ederiz\n"
          ]
        }
      ]
    },
    {
      "cell_type": "markdown",
      "source": [],
      "metadata": {
        "id": "tyRTRwX3vW5B"
      }
    }
  ]
}